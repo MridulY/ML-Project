{
  "cells": [
    {
      "cell_type": "code",
      "execution_count": 1,
      "metadata": {
        "id": "CVJQ_29ZsVfl"
      },
      "outputs": [],
      "source": [
        "import numpy as np\n",
        "import pandas as pd\n",
        "dataset1 = pd.read_csv(\"dataTraining1.csv\")"
      ]
    },
    {
      "cell_type": "code",
      "execution_count": 2,
      "metadata": {
        "colab": {
          "base_uri": "https://localhost:8080/",
          "height": 285
        },
        "id": "BuCQH9c2t2h8",
        "outputId": "d688ef3f-1b86-4645-8856-edcb08cf2ad7"
      },
      "outputs": [
        {
          "output_type": "execute_result",
          "data": {
            "text/plain": [
              "   Node Number  Thread Number Spatial Distribution Temporal Distribution  T/R  \\\n",
              "0           64              4                   UN         Client-Server    1   \n",
              "1           64              4                   UN         Client-Server    2   \n",
              "2           64              4                   UN         Client-Server    3   \n",
              "3           64              4                   UN         Client-Server    4   \n",
              "4           64              4                   UN         Client-Server    5   \n",
              "\n",
              "   Processor Utilization   Channel Waiting Time  Input Waiting Time  \\\n",
              "0                  839546               1974686           308491814   \n",
              "1                  827412               9556437           291037663   \n",
              "2                  802605              27027618           264928002   \n",
              "3                  723403              61848511           235776888   \n",
              "4                   72121             121085884           189680044   \n",
              "\n",
              "   Network Response Time  Channel Utilization  Column1  _1  _2  _3  _4  \n",
              "0              700514102               352431      NaN NaN NaN NaN NaN  \n",
              "1              864599227               506302      NaN NaN NaN NaN NaN  \n",
              "2              839372851               638516      NaN NaN NaN NaN NaN  \n",
              "3             1256053108               767051      NaN NaN NaN NaN NaN  \n",
              "4             1343875577               807812      NaN NaN NaN NaN NaN  "
            ],
            "text/html": [
              "\n",
              "  <div id=\"df-579fbb34-049d-4452-a420-7e08e69c5df6\">\n",
              "    <div class=\"colab-df-container\">\n",
              "      <div>\n",
              "<style scoped>\n",
              "    .dataframe tbody tr th:only-of-type {\n",
              "        vertical-align: middle;\n",
              "    }\n",
              "\n",
              "    .dataframe tbody tr th {\n",
              "        vertical-align: top;\n",
              "    }\n",
              "\n",
              "    .dataframe thead th {\n",
              "        text-align: right;\n",
              "    }\n",
              "</style>\n",
              "<table border=\"1\" class=\"dataframe\">\n",
              "  <thead>\n",
              "    <tr style=\"text-align: right;\">\n",
              "      <th></th>\n",
              "      <th>Node Number</th>\n",
              "      <th>Thread Number</th>\n",
              "      <th>Spatial Distribution</th>\n",
              "      <th>Temporal Distribution</th>\n",
              "      <th>T/R</th>\n",
              "      <th>Processor Utilization</th>\n",
              "      <th>Channel Waiting Time</th>\n",
              "      <th>Input Waiting Time</th>\n",
              "      <th>Network Response Time</th>\n",
              "      <th>Channel Utilization</th>\n",
              "      <th>Column1</th>\n",
              "      <th>_1</th>\n",
              "      <th>_2</th>\n",
              "      <th>_3</th>\n",
              "      <th>_4</th>\n",
              "    </tr>\n",
              "  </thead>\n",
              "  <tbody>\n",
              "    <tr>\n",
              "      <th>0</th>\n",
              "      <td>64</td>\n",
              "      <td>4</td>\n",
              "      <td>UN</td>\n",
              "      <td>Client-Server</td>\n",
              "      <td>1</td>\n",
              "      <td>839546</td>\n",
              "      <td>1974686</td>\n",
              "      <td>308491814</td>\n",
              "      <td>700514102</td>\n",
              "      <td>352431</td>\n",
              "      <td>NaN</td>\n",
              "      <td>NaN</td>\n",
              "      <td>NaN</td>\n",
              "      <td>NaN</td>\n",
              "      <td>NaN</td>\n",
              "    </tr>\n",
              "    <tr>\n",
              "      <th>1</th>\n",
              "      <td>64</td>\n",
              "      <td>4</td>\n",
              "      <td>UN</td>\n",
              "      <td>Client-Server</td>\n",
              "      <td>2</td>\n",
              "      <td>827412</td>\n",
              "      <td>9556437</td>\n",
              "      <td>291037663</td>\n",
              "      <td>864599227</td>\n",
              "      <td>506302</td>\n",
              "      <td>NaN</td>\n",
              "      <td>NaN</td>\n",
              "      <td>NaN</td>\n",
              "      <td>NaN</td>\n",
              "      <td>NaN</td>\n",
              "    </tr>\n",
              "    <tr>\n",
              "      <th>2</th>\n",
              "      <td>64</td>\n",
              "      <td>4</td>\n",
              "      <td>UN</td>\n",
              "      <td>Client-Server</td>\n",
              "      <td>3</td>\n",
              "      <td>802605</td>\n",
              "      <td>27027618</td>\n",
              "      <td>264928002</td>\n",
              "      <td>839372851</td>\n",
              "      <td>638516</td>\n",
              "      <td>NaN</td>\n",
              "      <td>NaN</td>\n",
              "      <td>NaN</td>\n",
              "      <td>NaN</td>\n",
              "      <td>NaN</td>\n",
              "    </tr>\n",
              "    <tr>\n",
              "      <th>3</th>\n",
              "      <td>64</td>\n",
              "      <td>4</td>\n",
              "      <td>UN</td>\n",
              "      <td>Client-Server</td>\n",
              "      <td>4</td>\n",
              "      <td>723403</td>\n",
              "      <td>61848511</td>\n",
              "      <td>235776888</td>\n",
              "      <td>1256053108</td>\n",
              "      <td>767051</td>\n",
              "      <td>NaN</td>\n",
              "      <td>NaN</td>\n",
              "      <td>NaN</td>\n",
              "      <td>NaN</td>\n",
              "      <td>NaN</td>\n",
              "    </tr>\n",
              "    <tr>\n",
              "      <th>4</th>\n",
              "      <td>64</td>\n",
              "      <td>4</td>\n",
              "      <td>UN</td>\n",
              "      <td>Client-Server</td>\n",
              "      <td>5</td>\n",
              "      <td>72121</td>\n",
              "      <td>121085884</td>\n",
              "      <td>189680044</td>\n",
              "      <td>1343875577</td>\n",
              "      <td>807812</td>\n",
              "      <td>NaN</td>\n",
              "      <td>NaN</td>\n",
              "      <td>NaN</td>\n",
              "      <td>NaN</td>\n",
              "      <td>NaN</td>\n",
              "    </tr>\n",
              "  </tbody>\n",
              "</table>\n",
              "</div>\n",
              "      <button class=\"colab-df-convert\" onclick=\"convertToInteractive('df-579fbb34-049d-4452-a420-7e08e69c5df6')\"\n",
              "              title=\"Convert this dataframe to an interactive table.\"\n",
              "              style=\"display:none;\">\n",
              "        \n",
              "  <svg xmlns=\"http://www.w3.org/2000/svg\" height=\"24px\"viewBox=\"0 0 24 24\"\n",
              "       width=\"24px\">\n",
              "    <path d=\"M0 0h24v24H0V0z\" fill=\"none\"/>\n",
              "    <path d=\"M18.56 5.44l.94 2.06.94-2.06 2.06-.94-2.06-.94-.94-2.06-.94 2.06-2.06.94zm-11 1L8.5 8.5l.94-2.06 2.06-.94-2.06-.94L8.5 2.5l-.94 2.06-2.06.94zm10 10l.94 2.06.94-2.06 2.06-.94-2.06-.94-.94-2.06-.94 2.06-2.06.94z\"/><path d=\"M17.41 7.96l-1.37-1.37c-.4-.4-.92-.59-1.43-.59-.52 0-1.04.2-1.43.59L10.3 9.45l-7.72 7.72c-.78.78-.78 2.05 0 2.83L4 21.41c.39.39.9.59 1.41.59.51 0 1.02-.2 1.41-.59l7.78-7.78 2.81-2.81c.8-.78.8-2.07 0-2.86zM5.41 20L4 18.59l7.72-7.72 1.47 1.35L5.41 20z\"/>\n",
              "  </svg>\n",
              "      </button>\n",
              "      \n",
              "  <style>\n",
              "    .colab-df-container {\n",
              "      display:flex;\n",
              "      flex-wrap:wrap;\n",
              "      gap: 12px;\n",
              "    }\n",
              "\n",
              "    .colab-df-convert {\n",
              "      background-color: #E8F0FE;\n",
              "      border: none;\n",
              "      border-radius: 50%;\n",
              "      cursor: pointer;\n",
              "      display: none;\n",
              "      fill: #1967D2;\n",
              "      height: 32px;\n",
              "      padding: 0 0 0 0;\n",
              "      width: 32px;\n",
              "    }\n",
              "\n",
              "    .colab-df-convert:hover {\n",
              "      background-color: #E2EBFA;\n",
              "      box-shadow: 0px 1px 2px rgba(60, 64, 67, 0.3), 0px 1px 3px 1px rgba(60, 64, 67, 0.15);\n",
              "      fill: #174EA6;\n",
              "    }\n",
              "\n",
              "    [theme=dark] .colab-df-convert {\n",
              "      background-color: #3B4455;\n",
              "      fill: #D2E3FC;\n",
              "    }\n",
              "\n",
              "    [theme=dark] .colab-df-convert:hover {\n",
              "      background-color: #434B5C;\n",
              "      box-shadow: 0px 1px 3px 1px rgba(0, 0, 0, 0.15);\n",
              "      filter: drop-shadow(0px 1px 2px rgba(0, 0, 0, 0.3));\n",
              "      fill: #FFFFFF;\n",
              "    }\n",
              "  </style>\n",
              "\n",
              "      <script>\n",
              "        const buttonEl =\n",
              "          document.querySelector('#df-579fbb34-049d-4452-a420-7e08e69c5df6 button.colab-df-convert');\n",
              "        buttonEl.style.display =\n",
              "          google.colab.kernel.accessAllowed ? 'block' : 'none';\n",
              "\n",
              "        async function convertToInteractive(key) {\n",
              "          const element = document.querySelector('#df-579fbb34-049d-4452-a420-7e08e69c5df6');\n",
              "          const dataTable =\n",
              "            await google.colab.kernel.invokeFunction('convertToInteractive',\n",
              "                                                     [key], {});\n",
              "          if (!dataTable) return;\n",
              "\n",
              "          const docLinkHtml = 'Like what you see? Visit the ' +\n",
              "            '<a target=\"_blank\" href=https://colab.research.google.com/notebooks/data_table.ipynb>data table notebook</a>'\n",
              "            + ' to learn more about interactive tables.';\n",
              "          element.innerHTML = '';\n",
              "          dataTable['output_type'] = 'display_data';\n",
              "          await google.colab.output.renderOutput(dataTable, element);\n",
              "          const docLink = document.createElement('div');\n",
              "          docLink.innerHTML = docLinkHtml;\n",
              "          element.appendChild(docLink);\n",
              "        }\n",
              "      </script>\n",
              "    </div>\n",
              "  </div>\n",
              "  "
            ]
          },
          "metadata": {},
          "execution_count": 2
        }
      ],
      "source": [
        "dataset1.head() #first 5 column"
      ]
    },
    {
      "cell_type": "code",
      "execution_count": 3,
      "metadata": {
        "colab": {
          "base_uri": "https://localhost:8080/",
          "height": 285
        },
        "id": "gjYqGPAOzXkU",
        "outputId": "512ccdb2-bc20-4474-f327-0416950af77c"
      },
      "outputs": [
        {
          "output_type": "execute_result",
          "data": {
            "text/plain": [
              "     Node Number  Thread Number Spatial Distribution Temporal Distribution  \\\n",
              "635           16             10                   PS          Asynchronous   \n",
              "636           16             10                   PS          Asynchronous   \n",
              "637           16             10                   PS          Asynchronous   \n",
              "638           16             10                   PS          Asynchronous   \n",
              "639           16             10                   PS          Asynchronous   \n",
              "\n",
              "     T/R  Processor Utilization   Channel Waiting Time  Input Waiting Time  \\\n",
              "635    6                   79234             532737732           363094043   \n",
              "636    7                  707199              75167511           224638088   \n",
              "637    8                   61823             905326843           206922631   \n",
              "638    9                  564482            1048269897           154713952   \n",
              "639    1                  515257            1184647461           136375081   \n",
              "\n",
              "     Network Response Time  Channel Utilization  Column1  _1  _2  _3  _4  \n",
              "635             1214057768               961042      NaN NaN NaN NaN NaN  \n",
              "636             1653736882               981944      NaN NaN NaN NaN NaN  \n",
              "637             1421304936                 9625      NaN NaN NaN NaN NaN  \n",
              "638             2371043062               979375      NaN NaN NaN NaN NaN  \n",
              "639             2592966463               980903      NaN NaN NaN NaN NaN  "
            ],
            "text/html": [
              "\n",
              "  <div id=\"df-0ef5bf30-a954-425a-8120-9d4382726a31\">\n",
              "    <div class=\"colab-df-container\">\n",
              "      <div>\n",
              "<style scoped>\n",
              "    .dataframe tbody tr th:only-of-type {\n",
              "        vertical-align: middle;\n",
              "    }\n",
              "\n",
              "    .dataframe tbody tr th {\n",
              "        vertical-align: top;\n",
              "    }\n",
              "\n",
              "    .dataframe thead th {\n",
              "        text-align: right;\n",
              "    }\n",
              "</style>\n",
              "<table border=\"1\" class=\"dataframe\">\n",
              "  <thead>\n",
              "    <tr style=\"text-align: right;\">\n",
              "      <th></th>\n",
              "      <th>Node Number</th>\n",
              "      <th>Thread Number</th>\n",
              "      <th>Spatial Distribution</th>\n",
              "      <th>Temporal Distribution</th>\n",
              "      <th>T/R</th>\n",
              "      <th>Processor Utilization</th>\n",
              "      <th>Channel Waiting Time</th>\n",
              "      <th>Input Waiting Time</th>\n",
              "      <th>Network Response Time</th>\n",
              "      <th>Channel Utilization</th>\n",
              "      <th>Column1</th>\n",
              "      <th>_1</th>\n",
              "      <th>_2</th>\n",
              "      <th>_3</th>\n",
              "      <th>_4</th>\n",
              "    </tr>\n",
              "  </thead>\n",
              "  <tbody>\n",
              "    <tr>\n",
              "      <th>635</th>\n",
              "      <td>16</td>\n",
              "      <td>10</td>\n",
              "      <td>PS</td>\n",
              "      <td>Asynchronous</td>\n",
              "      <td>6</td>\n",
              "      <td>79234</td>\n",
              "      <td>532737732</td>\n",
              "      <td>363094043</td>\n",
              "      <td>1214057768</td>\n",
              "      <td>961042</td>\n",
              "      <td>NaN</td>\n",
              "      <td>NaN</td>\n",
              "      <td>NaN</td>\n",
              "      <td>NaN</td>\n",
              "      <td>NaN</td>\n",
              "    </tr>\n",
              "    <tr>\n",
              "      <th>636</th>\n",
              "      <td>16</td>\n",
              "      <td>10</td>\n",
              "      <td>PS</td>\n",
              "      <td>Asynchronous</td>\n",
              "      <td>7</td>\n",
              "      <td>707199</td>\n",
              "      <td>75167511</td>\n",
              "      <td>224638088</td>\n",
              "      <td>1653736882</td>\n",
              "      <td>981944</td>\n",
              "      <td>NaN</td>\n",
              "      <td>NaN</td>\n",
              "      <td>NaN</td>\n",
              "      <td>NaN</td>\n",
              "      <td>NaN</td>\n",
              "    </tr>\n",
              "    <tr>\n",
              "      <th>637</th>\n",
              "      <td>16</td>\n",
              "      <td>10</td>\n",
              "      <td>PS</td>\n",
              "      <td>Asynchronous</td>\n",
              "      <td>8</td>\n",
              "      <td>61823</td>\n",
              "      <td>905326843</td>\n",
              "      <td>206922631</td>\n",
              "      <td>1421304936</td>\n",
              "      <td>9625</td>\n",
              "      <td>NaN</td>\n",
              "      <td>NaN</td>\n",
              "      <td>NaN</td>\n",
              "      <td>NaN</td>\n",
              "      <td>NaN</td>\n",
              "    </tr>\n",
              "    <tr>\n",
              "      <th>638</th>\n",
              "      <td>16</td>\n",
              "      <td>10</td>\n",
              "      <td>PS</td>\n",
              "      <td>Asynchronous</td>\n",
              "      <td>9</td>\n",
              "      <td>564482</td>\n",
              "      <td>1048269897</td>\n",
              "      <td>154713952</td>\n",
              "      <td>2371043062</td>\n",
              "      <td>979375</td>\n",
              "      <td>NaN</td>\n",
              "      <td>NaN</td>\n",
              "      <td>NaN</td>\n",
              "      <td>NaN</td>\n",
              "      <td>NaN</td>\n",
              "    </tr>\n",
              "    <tr>\n",
              "      <th>639</th>\n",
              "      <td>16</td>\n",
              "      <td>10</td>\n",
              "      <td>PS</td>\n",
              "      <td>Asynchronous</td>\n",
              "      <td>1</td>\n",
              "      <td>515257</td>\n",
              "      <td>1184647461</td>\n",
              "      <td>136375081</td>\n",
              "      <td>2592966463</td>\n",
              "      <td>980903</td>\n",
              "      <td>NaN</td>\n",
              "      <td>NaN</td>\n",
              "      <td>NaN</td>\n",
              "      <td>NaN</td>\n",
              "      <td>NaN</td>\n",
              "    </tr>\n",
              "  </tbody>\n",
              "</table>\n",
              "</div>\n",
              "      <button class=\"colab-df-convert\" onclick=\"convertToInteractive('df-0ef5bf30-a954-425a-8120-9d4382726a31')\"\n",
              "              title=\"Convert this dataframe to an interactive table.\"\n",
              "              style=\"display:none;\">\n",
              "        \n",
              "  <svg xmlns=\"http://www.w3.org/2000/svg\" height=\"24px\"viewBox=\"0 0 24 24\"\n",
              "       width=\"24px\">\n",
              "    <path d=\"M0 0h24v24H0V0z\" fill=\"none\"/>\n",
              "    <path d=\"M18.56 5.44l.94 2.06.94-2.06 2.06-.94-2.06-.94-.94-2.06-.94 2.06-2.06.94zm-11 1L8.5 8.5l.94-2.06 2.06-.94-2.06-.94L8.5 2.5l-.94 2.06-2.06.94zm10 10l.94 2.06.94-2.06 2.06-.94-2.06-.94-.94-2.06-.94 2.06-2.06.94z\"/><path d=\"M17.41 7.96l-1.37-1.37c-.4-.4-.92-.59-1.43-.59-.52 0-1.04.2-1.43.59L10.3 9.45l-7.72 7.72c-.78.78-.78 2.05 0 2.83L4 21.41c.39.39.9.59 1.41.59.51 0 1.02-.2 1.41-.59l7.78-7.78 2.81-2.81c.8-.78.8-2.07 0-2.86zM5.41 20L4 18.59l7.72-7.72 1.47 1.35L5.41 20z\"/>\n",
              "  </svg>\n",
              "      </button>\n",
              "      \n",
              "  <style>\n",
              "    .colab-df-container {\n",
              "      display:flex;\n",
              "      flex-wrap:wrap;\n",
              "      gap: 12px;\n",
              "    }\n",
              "\n",
              "    .colab-df-convert {\n",
              "      background-color: #E8F0FE;\n",
              "      border: none;\n",
              "      border-radius: 50%;\n",
              "      cursor: pointer;\n",
              "      display: none;\n",
              "      fill: #1967D2;\n",
              "      height: 32px;\n",
              "      padding: 0 0 0 0;\n",
              "      width: 32px;\n",
              "    }\n",
              "\n",
              "    .colab-df-convert:hover {\n",
              "      background-color: #E2EBFA;\n",
              "      box-shadow: 0px 1px 2px rgba(60, 64, 67, 0.3), 0px 1px 3px 1px rgba(60, 64, 67, 0.15);\n",
              "      fill: #174EA6;\n",
              "    }\n",
              "\n",
              "    [theme=dark] .colab-df-convert {\n",
              "      background-color: #3B4455;\n",
              "      fill: #D2E3FC;\n",
              "    }\n",
              "\n",
              "    [theme=dark] .colab-df-convert:hover {\n",
              "      background-color: #434B5C;\n",
              "      box-shadow: 0px 1px 3px 1px rgba(0, 0, 0, 0.15);\n",
              "      filter: drop-shadow(0px 1px 2px rgba(0, 0, 0, 0.3));\n",
              "      fill: #FFFFFF;\n",
              "    }\n",
              "  </style>\n",
              "\n",
              "      <script>\n",
              "        const buttonEl =\n",
              "          document.querySelector('#df-0ef5bf30-a954-425a-8120-9d4382726a31 button.colab-df-convert');\n",
              "        buttonEl.style.display =\n",
              "          google.colab.kernel.accessAllowed ? 'block' : 'none';\n",
              "\n",
              "        async function convertToInteractive(key) {\n",
              "          const element = document.querySelector('#df-0ef5bf30-a954-425a-8120-9d4382726a31');\n",
              "          const dataTable =\n",
              "            await google.colab.kernel.invokeFunction('convertToInteractive',\n",
              "                                                     [key], {});\n",
              "          if (!dataTable) return;\n",
              "\n",
              "          const docLinkHtml = 'Like what you see? Visit the ' +\n",
              "            '<a target=\"_blank\" href=https://colab.research.google.com/notebooks/data_table.ipynb>data table notebook</a>'\n",
              "            + ' to learn more about interactive tables.';\n",
              "          element.innerHTML = '';\n",
              "          dataTable['output_type'] = 'display_data';\n",
              "          await google.colab.output.renderOutput(dataTable, element);\n",
              "          const docLink = document.createElement('div');\n",
              "          docLink.innerHTML = docLinkHtml;\n",
              "          element.appendChild(docLink);\n",
              "        }\n",
              "      </script>\n",
              "    </div>\n",
              "  </div>\n",
              "  "
            ]
          },
          "metadata": {},
          "execution_count": 3
        }
      ],
      "source": [
        "dataset1.tail()#last 5 columns"
      ]
    },
    {
      "cell_type": "code",
      "execution_count": 4,
      "metadata": {
        "colab": {
          "base_uri": "https://localhost:8080/"
        },
        "id": "eaeF32VWuGqV",
        "outputId": "f6fa4888-9b8f-4745-972e-230ca4fc2115"
      },
      "outputs": [
        {
          "output_type": "execute_result",
          "data": {
            "text/plain": [
              "Node Number                 0\n",
              "Thread Number               0\n",
              "Spatial Distribution        0\n",
              "Temporal Distribution       0\n",
              "T/R                         0\n",
              "Processor Utilization       0\n",
              "Channel Waiting Time        0\n",
              "Input Waiting Time          0\n",
              "Network Response Time       0\n",
              "Channel Utilization         0\n",
              "Column1                   640\n",
              "_1                        640\n",
              "_2                        640\n",
              "_3                        640\n",
              "_4                        640\n",
              "dtype: int64"
            ]
          },
          "metadata": {},
          "execution_count": 4
        }
      ],
      "source": [
        "dataset1.isnull().sum()"
      ]
    },
    {
      "cell_type": "code",
      "execution_count": 35,
      "metadata": {
        "id": "6dB6olOXuZGy"
      },
      "outputs": [],
      "source": [
        "df=dataset1.drop(['Column1','_1','_2','_3','_4','Spatial Distribution','Temporal Distribution'],axis=1)  #removing useless column to minimize dataset"
      ]
    },
    {
      "cell_type": "code",
      "execution_count": 36,
      "metadata": {
        "colab": {
          "base_uri": "https://localhost:8080/"
        },
        "id": "BpuyNms_m8d_",
        "outputId": "46ea8b26-6870-477b-e1b5-7571e8c17aa2"
      },
      "outputs": [
        {
          "output_type": "execute_result",
          "data": {
            "text/plain": [
              "(640, 8)"
            ]
          },
          "metadata": {},
          "execution_count": 36
        }
      ],
      "source": [
        "df.shape"
      ]
    },
    {
      "cell_type": "code",
      "execution_count": 37,
      "metadata": {
        "colab": {
          "base_uri": "https://localhost:8080/"
        },
        "id": "IZGtXv5A0LWn",
        "outputId": "8bbb7515-2436-4f98-d0e8-69f88882ab18"
      },
      "outputs": [
        {
          "output_type": "execute_result",
          "data": {
            "text/plain": [
              "Node Number               int64\n",
              "Thread Number             int64\n",
              "T/R                       int64\n",
              "Processor Utilization     int64\n",
              "Channel Waiting Time      int64\n",
              "Input Waiting Time        int64\n",
              "Network Response Time     int64\n",
              "Channel Utilization       int64\n",
              "dtype: object"
            ]
          },
          "metadata": {},
          "execution_count": 37
        }
      ],
      "source": [
        "df.dtypes"
      ]
    },
    {
      "cell_type": "code",
      "execution_count": 38,
      "metadata": {
        "colab": {
          "base_uri": "https://localhost:8080/"
        },
        "id": "Cs7vCpED0dFz",
        "outputId": "5d28188e-a5cd-46e9-da96-faf5f2f571a5"
      },
      "outputs": [
        {
          "output_type": "stream",
          "name": "stdout",
          "text": [
            "<class 'pandas.core.frame.DataFrame'>\n",
            "RangeIndex: 640 entries, 0 to 639\n",
            "Data columns (total 8 columns):\n",
            " #   Column                  Non-Null Count  Dtype\n",
            "---  ------                  --------------  -----\n",
            " 0   Node Number             640 non-null    int64\n",
            " 1   Thread Number           640 non-null    int64\n",
            " 2   T/R                     640 non-null    int64\n",
            " 3   Processor Utilization   640 non-null    int64\n",
            " 4   Channel Waiting Time    640 non-null    int64\n",
            " 5   Input Waiting Time      640 non-null    int64\n",
            " 6   Network Response Time   640 non-null    int64\n",
            " 7   Channel Utilization     640 non-null    int64\n",
            "dtypes: int64(8)\n",
            "memory usage: 40.1 KB\n"
          ]
        }
      ],
      "source": [
        "df.info() #count and datatype of dataset"
      ]
    },
    {
      "cell_type": "code",
      "execution_count": 39,
      "metadata": {
        "id": "6UT7nFqb0nrf"
      },
      "outputs": [],
      "source": [
        "from sklearn.impute import SimpleImputer\n",
        "si=SimpleImputer(strategy='most_frequent')\n",
        "df_im=si.fit_transform(df)"
      ]
    },
    {
      "cell_type": "code",
      "execution_count": 40,
      "metadata": {
        "id": "aNejcTI85oBS"
      },
      "outputs": [],
      "source": [
        "df_im=pd.DataFrame(df_im)"
      ]
    },
    {
      "cell_type": "code",
      "execution_count": 41,
      "metadata": {
        "id": "H5YXE6PUBuch"
      },
      "outputs": [],
      "source": [
        "data=df_im"
      ]
    },
    {
      "cell_type": "code",
      "execution_count": 42,
      "metadata": {
        "id": "ef7kgYpZB5de"
      },
      "outputs": [],
      "source": [
        "target=df_im[0]"
      ]
    },
    {
      "cell_type": "code",
      "execution_count": 43,
      "metadata": {
        "colab": {
          "base_uri": "https://localhost:8080/",
          "height": 250
        },
        "id": "BBAdu1ot5rKI",
        "outputId": "2c81304d-dbcc-4582-da63-4aef0e95ece0"
      },
      "outputs": [
        {
          "output_type": "execute_result",
          "data": {
            "text/plain": [
              "   Node Number  Thread Number  T/R  Processor Utilization   \\\n",
              "0           64              4    1                  839546   \n",
              "1           64              4    2                  827412   \n",
              "2           64              4    3                  802605   \n",
              "3           64              4    4                  723403   \n",
              "4           64              4    5                   72121   \n",
              "\n",
              "   Channel Waiting Time  Input Waiting Time  Network Response Time  \\\n",
              "0               1974686           308491814              700514102   \n",
              "1               9556437           291037663              864599227   \n",
              "2              27027618           264928002              839372851   \n",
              "3              61848511           235776888             1256053108   \n",
              "4             121085884           189680044             1343875577   \n",
              "\n",
              "   Channel Utilization  \n",
              "0               352431  \n",
              "1               506302  \n",
              "2               638516  \n",
              "3               767051  \n",
              "4               807812  "
            ],
            "text/html": [
              "\n",
              "  <div id=\"df-2386381b-b3e4-44c9-81e9-bc488090361f\">\n",
              "    <div class=\"colab-df-container\">\n",
              "      <div>\n",
              "<style scoped>\n",
              "    .dataframe tbody tr th:only-of-type {\n",
              "        vertical-align: middle;\n",
              "    }\n",
              "\n",
              "    .dataframe tbody tr th {\n",
              "        vertical-align: top;\n",
              "    }\n",
              "\n",
              "    .dataframe thead th {\n",
              "        text-align: right;\n",
              "    }\n",
              "</style>\n",
              "<table border=\"1\" class=\"dataframe\">\n",
              "  <thead>\n",
              "    <tr style=\"text-align: right;\">\n",
              "      <th></th>\n",
              "      <th>Node Number</th>\n",
              "      <th>Thread Number</th>\n",
              "      <th>T/R</th>\n",
              "      <th>Processor Utilization</th>\n",
              "      <th>Channel Waiting Time</th>\n",
              "      <th>Input Waiting Time</th>\n",
              "      <th>Network Response Time</th>\n",
              "      <th>Channel Utilization</th>\n",
              "    </tr>\n",
              "  </thead>\n",
              "  <tbody>\n",
              "    <tr>\n",
              "      <th>0</th>\n",
              "      <td>64</td>\n",
              "      <td>4</td>\n",
              "      <td>1</td>\n",
              "      <td>839546</td>\n",
              "      <td>1974686</td>\n",
              "      <td>308491814</td>\n",
              "      <td>700514102</td>\n",
              "      <td>352431</td>\n",
              "    </tr>\n",
              "    <tr>\n",
              "      <th>1</th>\n",
              "      <td>64</td>\n",
              "      <td>4</td>\n",
              "      <td>2</td>\n",
              "      <td>827412</td>\n",
              "      <td>9556437</td>\n",
              "      <td>291037663</td>\n",
              "      <td>864599227</td>\n",
              "      <td>506302</td>\n",
              "    </tr>\n",
              "    <tr>\n",
              "      <th>2</th>\n",
              "      <td>64</td>\n",
              "      <td>4</td>\n",
              "      <td>3</td>\n",
              "      <td>802605</td>\n",
              "      <td>27027618</td>\n",
              "      <td>264928002</td>\n",
              "      <td>839372851</td>\n",
              "      <td>638516</td>\n",
              "    </tr>\n",
              "    <tr>\n",
              "      <th>3</th>\n",
              "      <td>64</td>\n",
              "      <td>4</td>\n",
              "      <td>4</td>\n",
              "      <td>723403</td>\n",
              "      <td>61848511</td>\n",
              "      <td>235776888</td>\n",
              "      <td>1256053108</td>\n",
              "      <td>767051</td>\n",
              "    </tr>\n",
              "    <tr>\n",
              "      <th>4</th>\n",
              "      <td>64</td>\n",
              "      <td>4</td>\n",
              "      <td>5</td>\n",
              "      <td>72121</td>\n",
              "      <td>121085884</td>\n",
              "      <td>189680044</td>\n",
              "      <td>1343875577</td>\n",
              "      <td>807812</td>\n",
              "    </tr>\n",
              "  </tbody>\n",
              "</table>\n",
              "</div>\n",
              "      <button class=\"colab-df-convert\" onclick=\"convertToInteractive('df-2386381b-b3e4-44c9-81e9-bc488090361f')\"\n",
              "              title=\"Convert this dataframe to an interactive table.\"\n",
              "              style=\"display:none;\">\n",
              "        \n",
              "  <svg xmlns=\"http://www.w3.org/2000/svg\" height=\"24px\"viewBox=\"0 0 24 24\"\n",
              "       width=\"24px\">\n",
              "    <path d=\"M0 0h24v24H0V0z\" fill=\"none\"/>\n",
              "    <path d=\"M18.56 5.44l.94 2.06.94-2.06 2.06-.94-2.06-.94-.94-2.06-.94 2.06-2.06.94zm-11 1L8.5 8.5l.94-2.06 2.06-.94-2.06-.94L8.5 2.5l-.94 2.06-2.06.94zm10 10l.94 2.06.94-2.06 2.06-.94-2.06-.94-.94-2.06-.94 2.06-2.06.94z\"/><path d=\"M17.41 7.96l-1.37-1.37c-.4-.4-.92-.59-1.43-.59-.52 0-1.04.2-1.43.59L10.3 9.45l-7.72 7.72c-.78.78-.78 2.05 0 2.83L4 21.41c.39.39.9.59 1.41.59.51 0 1.02-.2 1.41-.59l7.78-7.78 2.81-2.81c.8-.78.8-2.07 0-2.86zM5.41 20L4 18.59l7.72-7.72 1.47 1.35L5.41 20z\"/>\n",
              "  </svg>\n",
              "      </button>\n",
              "      \n",
              "  <style>\n",
              "    .colab-df-container {\n",
              "      display:flex;\n",
              "      flex-wrap:wrap;\n",
              "      gap: 12px;\n",
              "    }\n",
              "\n",
              "    .colab-df-convert {\n",
              "      background-color: #E8F0FE;\n",
              "      border: none;\n",
              "      border-radius: 50%;\n",
              "      cursor: pointer;\n",
              "      display: none;\n",
              "      fill: #1967D2;\n",
              "      height: 32px;\n",
              "      padding: 0 0 0 0;\n",
              "      width: 32px;\n",
              "    }\n",
              "\n",
              "    .colab-df-convert:hover {\n",
              "      background-color: #E2EBFA;\n",
              "      box-shadow: 0px 1px 2px rgba(60, 64, 67, 0.3), 0px 1px 3px 1px rgba(60, 64, 67, 0.15);\n",
              "      fill: #174EA6;\n",
              "    }\n",
              "\n",
              "    [theme=dark] .colab-df-convert {\n",
              "      background-color: #3B4455;\n",
              "      fill: #D2E3FC;\n",
              "    }\n",
              "\n",
              "    [theme=dark] .colab-df-convert:hover {\n",
              "      background-color: #434B5C;\n",
              "      box-shadow: 0px 1px 3px 1px rgba(0, 0, 0, 0.15);\n",
              "      filter: drop-shadow(0px 1px 2px rgba(0, 0, 0, 0.3));\n",
              "      fill: #FFFFFF;\n",
              "    }\n",
              "  </style>\n",
              "\n",
              "      <script>\n",
              "        const buttonEl =\n",
              "          document.querySelector('#df-2386381b-b3e4-44c9-81e9-bc488090361f button.colab-df-convert');\n",
              "        buttonEl.style.display =\n",
              "          google.colab.kernel.accessAllowed ? 'block' : 'none';\n",
              "\n",
              "        async function convertToInteractive(key) {\n",
              "          const element = document.querySelector('#df-2386381b-b3e4-44c9-81e9-bc488090361f');\n",
              "          const dataTable =\n",
              "            await google.colab.kernel.invokeFunction('convertToInteractive',\n",
              "                                                     [key], {});\n",
              "          if (!dataTable) return;\n",
              "\n",
              "          const docLinkHtml = 'Like what you see? Visit the ' +\n",
              "            '<a target=\"_blank\" href=https://colab.research.google.com/notebooks/data_table.ipynb>data table notebook</a>'\n",
              "            + ' to learn more about interactive tables.';\n",
              "          element.innerHTML = '';\n",
              "          dataTable['output_type'] = 'display_data';\n",
              "          await google.colab.output.renderOutput(dataTable, element);\n",
              "          const docLink = document.createElement('div');\n",
              "          docLink.innerHTML = docLinkHtml;\n",
              "          element.appendChild(docLink);\n",
              "        }\n",
              "      </script>\n",
              "    </div>\n",
              "  </div>\n",
              "  "
            ]
          },
          "metadata": {},
          "execution_count": 43
        }
      ],
      "source": [
        "df.head()"
      ]
    },
    {
      "cell_type": "code",
      "execution_count": 44,
      "metadata": {
        "id": "rhrx9SB06AAj"
      },
      "outputs": [],
      "source": [
        "import matplotlib.pyplot as plot\n",
        "from sklearn import linear_model"
      ]
    },
    {
      "cell_type": "code",
      "execution_count": 45,
      "metadata": {
        "id": "WgHMB2kDBg_e"
      },
      "outputs": [],
      "source": [
        "from sklearn.model_selection import train_test_split\n",
        "x_train,x_test,y_train,y_test=train_test_split(data,target,test_size=0.3)"
      ]
    },
    {
      "cell_type": "code",
      "execution_count": 46,
      "metadata": {
        "colab": {
          "base_uri": "https://localhost:8080/"
        },
        "id": "rgKDGiN9COTF",
        "outputId": "18d011a3-a72b-4273-ade8-a0b89acc3b91"
      },
      "outputs": [
        {
          "output_type": "execute_result",
          "data": {
            "text/plain": [
              "(448, 8)"
            ]
          },
          "metadata": {},
          "execution_count": 46
        }
      ],
      "source": [
        "x_train.shape"
      ]
    },
    {
      "cell_type": "code",
      "execution_count": 47,
      "metadata": {
        "colab": {
          "base_uri": "https://localhost:8080/"
        },
        "id": "iXmXFsZICRv6",
        "outputId": "9c57d3fe-928f-4a78-c9f3-426f7d6e8dbd"
      },
      "outputs": [
        {
          "output_type": "execute_result",
          "data": {
            "text/plain": [
              "(192, 8)"
            ]
          },
          "metadata": {},
          "execution_count": 47
        }
      ],
      "source": [
        "x_test.shape"
      ]
    },
    {
      "cell_type": "code",
      "execution_count": 48,
      "metadata": {
        "id": "U4LR5bG1CYHn"
      },
      "outputs": [],
      "source": [
        "from sklearn.linear_model import Perceptron"
      ]
    },
    {
      "cell_type": "code",
      "execution_count": 49,
      "metadata": {
        "id": "Wt8mcrwuCchM"
      },
      "outputs": [],
      "source": [
        "p1=Perceptron(penalty='l1')"
      ]
    },
    {
      "cell_type": "code",
      "execution_count": 50,
      "metadata": {
        "colab": {
          "base_uri": "https://localhost:8080/",
          "height": 485
        },
        "id": "3YjV0nJLp__Z",
        "outputId": "a01c3c83-a4e0-4b75-db59-ecfae059dcc2"
      },
      "outputs": [
        {
          "output_type": "execute_result",
          "data": {
            "text/plain": [
              "     Node Number  Thread Number  T/R  Processor Utilization   \\\n",
              "0             64              4    1                  839546   \n",
              "1             64              4    2                  827412   \n",
              "2             64              4    3                  802605   \n",
              "3             64              4    4                  723403   \n",
              "4             64              4    5                   72121   \n",
              "..           ...            ...  ...                     ...   \n",
              "635           16             10    6                   79234   \n",
              "636           16             10    7                  707199   \n",
              "637           16             10    8                   61823   \n",
              "638           16             10    9                  564482   \n",
              "639           16             10    1                  515257   \n",
              "\n",
              "     Channel Waiting Time  Input Waiting Time  Network Response Time  \\\n",
              "0                 1974686           308491814              700514102   \n",
              "1                 9556437           291037663              864599227   \n",
              "2                27027618           264928002              839372851   \n",
              "3                61848511           235776888             1256053108   \n",
              "4               121085884           189680044             1343875577   \n",
              "..                    ...                 ...                    ...   \n",
              "635             532737732           363094043             1214057768   \n",
              "636              75167511           224638088             1653736882   \n",
              "637             905326843           206922631             1421304936   \n",
              "638            1048269897           154713952             2371043062   \n",
              "639            1184647461           136375081             2592966463   \n",
              "\n",
              "     Channel Utilization  \n",
              "0                 352431  \n",
              "1                 506302  \n",
              "2                 638516  \n",
              "3                 767051  \n",
              "4                 807812  \n",
              "..                   ...  \n",
              "635               961042  \n",
              "636               981944  \n",
              "637                 9625  \n",
              "638               979375  \n",
              "639               980903  \n",
              "\n",
              "[640 rows x 8 columns]"
            ],
            "text/html": [
              "\n",
              "  <div id=\"df-45b8bde4-65df-4736-829a-13a0094b5ef0\">\n",
              "    <div class=\"colab-df-container\">\n",
              "      <div>\n",
              "<style scoped>\n",
              "    .dataframe tbody tr th:only-of-type {\n",
              "        vertical-align: middle;\n",
              "    }\n",
              "\n",
              "    .dataframe tbody tr th {\n",
              "        vertical-align: top;\n",
              "    }\n",
              "\n",
              "    .dataframe thead th {\n",
              "        text-align: right;\n",
              "    }\n",
              "</style>\n",
              "<table border=\"1\" class=\"dataframe\">\n",
              "  <thead>\n",
              "    <tr style=\"text-align: right;\">\n",
              "      <th></th>\n",
              "      <th>Node Number</th>\n",
              "      <th>Thread Number</th>\n",
              "      <th>T/R</th>\n",
              "      <th>Processor Utilization</th>\n",
              "      <th>Channel Waiting Time</th>\n",
              "      <th>Input Waiting Time</th>\n",
              "      <th>Network Response Time</th>\n",
              "      <th>Channel Utilization</th>\n",
              "    </tr>\n",
              "  </thead>\n",
              "  <tbody>\n",
              "    <tr>\n",
              "      <th>0</th>\n",
              "      <td>64</td>\n",
              "      <td>4</td>\n",
              "      <td>1</td>\n",
              "      <td>839546</td>\n",
              "      <td>1974686</td>\n",
              "      <td>308491814</td>\n",
              "      <td>700514102</td>\n",
              "      <td>352431</td>\n",
              "    </tr>\n",
              "    <tr>\n",
              "      <th>1</th>\n",
              "      <td>64</td>\n",
              "      <td>4</td>\n",
              "      <td>2</td>\n",
              "      <td>827412</td>\n",
              "      <td>9556437</td>\n",
              "      <td>291037663</td>\n",
              "      <td>864599227</td>\n",
              "      <td>506302</td>\n",
              "    </tr>\n",
              "    <tr>\n",
              "      <th>2</th>\n",
              "      <td>64</td>\n",
              "      <td>4</td>\n",
              "      <td>3</td>\n",
              "      <td>802605</td>\n",
              "      <td>27027618</td>\n",
              "      <td>264928002</td>\n",
              "      <td>839372851</td>\n",
              "      <td>638516</td>\n",
              "    </tr>\n",
              "    <tr>\n",
              "      <th>3</th>\n",
              "      <td>64</td>\n",
              "      <td>4</td>\n",
              "      <td>4</td>\n",
              "      <td>723403</td>\n",
              "      <td>61848511</td>\n",
              "      <td>235776888</td>\n",
              "      <td>1256053108</td>\n",
              "      <td>767051</td>\n",
              "    </tr>\n",
              "    <tr>\n",
              "      <th>4</th>\n",
              "      <td>64</td>\n",
              "      <td>4</td>\n",
              "      <td>5</td>\n",
              "      <td>72121</td>\n",
              "      <td>121085884</td>\n",
              "      <td>189680044</td>\n",
              "      <td>1343875577</td>\n",
              "      <td>807812</td>\n",
              "    </tr>\n",
              "    <tr>\n",
              "      <th>...</th>\n",
              "      <td>...</td>\n",
              "      <td>...</td>\n",
              "      <td>...</td>\n",
              "      <td>...</td>\n",
              "      <td>...</td>\n",
              "      <td>...</td>\n",
              "      <td>...</td>\n",
              "      <td>...</td>\n",
              "    </tr>\n",
              "    <tr>\n",
              "      <th>635</th>\n",
              "      <td>16</td>\n",
              "      <td>10</td>\n",
              "      <td>6</td>\n",
              "      <td>79234</td>\n",
              "      <td>532737732</td>\n",
              "      <td>363094043</td>\n",
              "      <td>1214057768</td>\n",
              "      <td>961042</td>\n",
              "    </tr>\n",
              "    <tr>\n",
              "      <th>636</th>\n",
              "      <td>16</td>\n",
              "      <td>10</td>\n",
              "      <td>7</td>\n",
              "      <td>707199</td>\n",
              "      <td>75167511</td>\n",
              "      <td>224638088</td>\n",
              "      <td>1653736882</td>\n",
              "      <td>981944</td>\n",
              "    </tr>\n",
              "    <tr>\n",
              "      <th>637</th>\n",
              "      <td>16</td>\n",
              "      <td>10</td>\n",
              "      <td>8</td>\n",
              "      <td>61823</td>\n",
              "      <td>905326843</td>\n",
              "      <td>206922631</td>\n",
              "      <td>1421304936</td>\n",
              "      <td>9625</td>\n",
              "    </tr>\n",
              "    <tr>\n",
              "      <th>638</th>\n",
              "      <td>16</td>\n",
              "      <td>10</td>\n",
              "      <td>9</td>\n",
              "      <td>564482</td>\n",
              "      <td>1048269897</td>\n",
              "      <td>154713952</td>\n",
              "      <td>2371043062</td>\n",
              "      <td>979375</td>\n",
              "    </tr>\n",
              "    <tr>\n",
              "      <th>639</th>\n",
              "      <td>16</td>\n",
              "      <td>10</td>\n",
              "      <td>1</td>\n",
              "      <td>515257</td>\n",
              "      <td>1184647461</td>\n",
              "      <td>136375081</td>\n",
              "      <td>2592966463</td>\n",
              "      <td>980903</td>\n",
              "    </tr>\n",
              "  </tbody>\n",
              "</table>\n",
              "<p>640 rows × 8 columns</p>\n",
              "</div>\n",
              "      <button class=\"colab-df-convert\" onclick=\"convertToInteractive('df-45b8bde4-65df-4736-829a-13a0094b5ef0')\"\n",
              "              title=\"Convert this dataframe to an interactive table.\"\n",
              "              style=\"display:none;\">\n",
              "        \n",
              "  <svg xmlns=\"http://www.w3.org/2000/svg\" height=\"24px\"viewBox=\"0 0 24 24\"\n",
              "       width=\"24px\">\n",
              "    <path d=\"M0 0h24v24H0V0z\" fill=\"none\"/>\n",
              "    <path d=\"M18.56 5.44l.94 2.06.94-2.06 2.06-.94-2.06-.94-.94-2.06-.94 2.06-2.06.94zm-11 1L8.5 8.5l.94-2.06 2.06-.94-2.06-.94L8.5 2.5l-.94 2.06-2.06.94zm10 10l.94 2.06.94-2.06 2.06-.94-2.06-.94-.94-2.06-.94 2.06-2.06.94z\"/><path d=\"M17.41 7.96l-1.37-1.37c-.4-.4-.92-.59-1.43-.59-.52 0-1.04.2-1.43.59L10.3 9.45l-7.72 7.72c-.78.78-.78 2.05 0 2.83L4 21.41c.39.39.9.59 1.41.59.51 0 1.02-.2 1.41-.59l7.78-7.78 2.81-2.81c.8-.78.8-2.07 0-2.86zM5.41 20L4 18.59l7.72-7.72 1.47 1.35L5.41 20z\"/>\n",
              "  </svg>\n",
              "      </button>\n",
              "      \n",
              "  <style>\n",
              "    .colab-df-container {\n",
              "      display:flex;\n",
              "      flex-wrap:wrap;\n",
              "      gap: 12px;\n",
              "    }\n",
              "\n",
              "    .colab-df-convert {\n",
              "      background-color: #E8F0FE;\n",
              "      border: none;\n",
              "      border-radius: 50%;\n",
              "      cursor: pointer;\n",
              "      display: none;\n",
              "      fill: #1967D2;\n",
              "      height: 32px;\n",
              "      padding: 0 0 0 0;\n",
              "      width: 32px;\n",
              "    }\n",
              "\n",
              "    .colab-df-convert:hover {\n",
              "      background-color: #E2EBFA;\n",
              "      box-shadow: 0px 1px 2px rgba(60, 64, 67, 0.3), 0px 1px 3px 1px rgba(60, 64, 67, 0.15);\n",
              "      fill: #174EA6;\n",
              "    }\n",
              "\n",
              "    [theme=dark] .colab-df-convert {\n",
              "      background-color: #3B4455;\n",
              "      fill: #D2E3FC;\n",
              "    }\n",
              "\n",
              "    [theme=dark] .colab-df-convert:hover {\n",
              "      background-color: #434B5C;\n",
              "      box-shadow: 0px 1px 3px 1px rgba(0, 0, 0, 0.15);\n",
              "      filter: drop-shadow(0px 1px 2px rgba(0, 0, 0, 0.3));\n",
              "      fill: #FFFFFF;\n",
              "    }\n",
              "  </style>\n",
              "\n",
              "      <script>\n",
              "        const buttonEl =\n",
              "          document.querySelector('#df-45b8bde4-65df-4736-829a-13a0094b5ef0 button.colab-df-convert');\n",
              "        buttonEl.style.display =\n",
              "          google.colab.kernel.accessAllowed ? 'block' : 'none';\n",
              "\n",
              "        async function convertToInteractive(key) {\n",
              "          const element = document.querySelector('#df-45b8bde4-65df-4736-829a-13a0094b5ef0');\n",
              "          const dataTable =\n",
              "            await google.colab.kernel.invokeFunction('convertToInteractive',\n",
              "                                                     [key], {});\n",
              "          if (!dataTable) return;\n",
              "\n",
              "          const docLinkHtml = 'Like what you see? Visit the ' +\n",
              "            '<a target=\"_blank\" href=https://colab.research.google.com/notebooks/data_table.ipynb>data table notebook</a>'\n",
              "            + ' to learn more about interactive tables.';\n",
              "          element.innerHTML = '';\n",
              "          dataTable['output_type'] = 'display_data';\n",
              "          await google.colab.output.renderOutput(dataTable, element);\n",
              "          const docLink = document.createElement('div');\n",
              "          docLink.innerHTML = docLinkHtml;\n",
              "          element.appendChild(docLink);\n",
              "        }\n",
              "      </script>\n",
              "    </div>\n",
              "  </div>\n",
              "  "
            ]
          },
          "metadata": {},
          "execution_count": 50
        }
      ],
      "source": [
        "df"
      ]
    },
    {
      "cell_type": "code",
      "execution_count": 51,
      "metadata": {
        "colab": {
          "base_uri": "https://localhost:8080/",
          "height": 74
        },
        "id": "5ye788JhC-ZZ",
        "outputId": "38bfcf8f-1e6f-4aa1-fb49-81bd84af8e01"
      },
      "outputs": [
        {
          "output_type": "execute_result",
          "data": {
            "text/plain": [
              "Perceptron(penalty='l1')"
            ],
            "text/html": [
              "<style>#sk-container-id-1 {color: black;background-color: white;}#sk-container-id-1 pre{padding: 0;}#sk-container-id-1 div.sk-toggleable {background-color: white;}#sk-container-id-1 label.sk-toggleable__label {cursor: pointer;display: block;width: 100%;margin-bottom: 0;padding: 0.3em;box-sizing: border-box;text-align: center;}#sk-container-id-1 label.sk-toggleable__label-arrow:before {content: \"▸\";float: left;margin-right: 0.25em;color: #696969;}#sk-container-id-1 label.sk-toggleable__label-arrow:hover:before {color: black;}#sk-container-id-1 div.sk-estimator:hover label.sk-toggleable__label-arrow:before {color: black;}#sk-container-id-1 div.sk-toggleable__content {max-height: 0;max-width: 0;overflow: hidden;text-align: left;background-color: #f0f8ff;}#sk-container-id-1 div.sk-toggleable__content pre {margin: 0.2em;color: black;border-radius: 0.25em;background-color: #f0f8ff;}#sk-container-id-1 input.sk-toggleable__control:checked~div.sk-toggleable__content {max-height: 200px;max-width: 100%;overflow: auto;}#sk-container-id-1 input.sk-toggleable__control:checked~label.sk-toggleable__label-arrow:before {content: \"▾\";}#sk-container-id-1 div.sk-estimator input.sk-toggleable__control:checked~label.sk-toggleable__label {background-color: #d4ebff;}#sk-container-id-1 div.sk-label input.sk-toggleable__control:checked~label.sk-toggleable__label {background-color: #d4ebff;}#sk-container-id-1 input.sk-hidden--visually {border: 0;clip: rect(1px 1px 1px 1px);clip: rect(1px, 1px, 1px, 1px);height: 1px;margin: -1px;overflow: hidden;padding: 0;position: absolute;width: 1px;}#sk-container-id-1 div.sk-estimator {font-family: monospace;background-color: #f0f8ff;border: 1px dotted black;border-radius: 0.25em;box-sizing: border-box;margin-bottom: 0.5em;}#sk-container-id-1 div.sk-estimator:hover {background-color: #d4ebff;}#sk-container-id-1 div.sk-parallel-item::after {content: \"\";width: 100%;border-bottom: 1px solid gray;flex-grow: 1;}#sk-container-id-1 div.sk-label:hover label.sk-toggleable__label {background-color: #d4ebff;}#sk-container-id-1 div.sk-serial::before {content: \"\";position: absolute;border-left: 1px solid gray;box-sizing: border-box;top: 0;bottom: 0;left: 50%;z-index: 0;}#sk-container-id-1 div.sk-serial {display: flex;flex-direction: column;align-items: center;background-color: white;padding-right: 0.2em;padding-left: 0.2em;position: relative;}#sk-container-id-1 div.sk-item {position: relative;z-index: 1;}#sk-container-id-1 div.sk-parallel {display: flex;align-items: stretch;justify-content: center;background-color: white;position: relative;}#sk-container-id-1 div.sk-item::before, #sk-container-id-1 div.sk-parallel-item::before {content: \"\";position: absolute;border-left: 1px solid gray;box-sizing: border-box;top: 0;bottom: 0;left: 50%;z-index: -1;}#sk-container-id-1 div.sk-parallel-item {display: flex;flex-direction: column;z-index: 1;position: relative;background-color: white;}#sk-container-id-1 div.sk-parallel-item:first-child::after {align-self: flex-end;width: 50%;}#sk-container-id-1 div.sk-parallel-item:last-child::after {align-self: flex-start;width: 50%;}#sk-container-id-1 div.sk-parallel-item:only-child::after {width: 0;}#sk-container-id-1 div.sk-dashed-wrapped {border: 1px dashed gray;margin: 0 0.4em 0.5em 0.4em;box-sizing: border-box;padding-bottom: 0.4em;background-color: white;}#sk-container-id-1 div.sk-label label {font-family: monospace;font-weight: bold;display: inline-block;line-height: 1.2em;}#sk-container-id-1 div.sk-label-container {text-align: center;}#sk-container-id-1 div.sk-container {/* jupyter's `normalize.less` sets `[hidden] { display: none; }` but bootstrap.min.css set `[hidden] { display: none !important; }` so we also need the `!important` here to be able to override the default hidden behavior on the sphinx rendered scikit-learn.org. See: https://github.com/scikit-learn/scikit-learn/issues/21755 */display: inline-block !important;position: relative;}#sk-container-id-1 div.sk-text-repr-fallback {display: none;}</style><div id=\"sk-container-id-1\" class=\"sk-top-container\"><div class=\"sk-text-repr-fallback\"><pre>Perceptron(penalty=&#x27;l1&#x27;)</pre><b>In a Jupyter environment, please rerun this cell to show the HTML representation or trust the notebook. <br />On GitHub, the HTML representation is unable to render, please try loading this page with nbviewer.org.</b></div><div class=\"sk-container\" hidden><div class=\"sk-item\"><div class=\"sk-estimator sk-toggleable\"><input class=\"sk-toggleable__control sk-hidden--visually\" id=\"sk-estimator-id-1\" type=\"checkbox\" checked><label for=\"sk-estimator-id-1\" class=\"sk-toggleable__label sk-toggleable__label-arrow\">Perceptron</label><div class=\"sk-toggleable__content\"><pre>Perceptron(penalty=&#x27;l1&#x27;)</pre></div></div></div></div></div>"
            ]
          },
          "metadata": {},
          "execution_count": 51
        }
      ],
      "source": [
        "p1.fit(x_train,y_train)"
      ]
    },
    {
      "cell_type": "code",
      "execution_count": 52,
      "metadata": {
        "id": "2jj3ZLWXCfAA"
      },
      "outputs": [],
      "source": [
        "from sklearn.metrics import accuracy_score"
      ]
    },
    {
      "cell_type": "code",
      "execution_count": 53,
      "metadata": {
        "id": "wv9hKHf8ChMu"
      },
      "outputs": [],
      "source": [
        "train_pred=p1.predict(x_train)"
      ]
    },
    {
      "cell_type": "code",
      "execution_count": 54,
      "metadata": {
        "id": "DslsZYTvrhh2"
      },
      "outputs": [],
      "source": [
        "train_pred=p1.predict(x_test)"
      ]
    },
    {
      "cell_type": "code",
      "execution_count": 70,
      "metadata": {
        "id": "IeyfyD-esXAr"
      },
      "outputs": [],
      "source": [
        "X=df\n",
        "y=df['T/R']\n",
        "from sklearn.linear_model import LogisticRegression\n",
        "\n",
        "from sklearn import preprocessing\n",
        "from sklearn import utils\n",
        "\n",
        "#convert y values to categorical values\n",
        "lab = preprocessing.LabelEncoder()\n",
        "y = lab.fit_transform(y)\n"
      ]
    },
    {
      "cell_type": "code",
      "execution_count": 71,
      "metadata": {
        "colab": {
          "base_uri": "https://localhost:8080/"
        },
        "id": "7SGDZREl4HvR",
        "outputId": "ee118b1f-3202-4b9e-88e2-da34df6f2104"
      },
      "outputs": [
        {
          "output_type": "stream",
          "name": "stdout",
          "text": [
            "(640, 8)\n",
            "(128, 8)\n",
            "(512, 8)\n"
          ]
        }
      ],
      "source": [
        "#split the dataset in the Training and testing \n",
        "from sklearn.model_selection import train_test_split\n",
        "X_train , X_test ,y_train, y_test = train_test_split(X,y,test_size=0.2,random_state=0)\n",
        "print(np.shape(X))\n",
        "print(np.shape(X_test))\n",
        "print(np.shape(X_train))\n",
        "\n",
        "#Create the object of StandardScaler class for independent variables or features\n",
        "from sklearn.preprocessing import StandardScaler \n",
        "sc=StandardScaler()\n",
        "sc.fit(X_train)\n",
        "X_train_std = sc.transform(X_train)\n",
        "X_test_std = sc.transform(X_test)"
      ]
    },
    {
      "cell_type": "code",
      "execution_count": 72,
      "metadata": {
        "colab": {
          "base_uri": "https://localhost:8080/"
        },
        "id": "pxS2kvWksfEw",
        "outputId": "5e0f4ab4-fa77-4f45-a5c9-c97395c5a2bb"
      },
      "outputs": [
        {
          "output_type": "stream",
          "name": "stdout",
          "text": [
            "misclassified samples: 0\n",
            "Accuracy:1.00\n"
          ]
        }
      ],
      "source": [
        "### SVM (Support Vector Machine)\n",
        "from sklearn.svm import SVC\n",
        "svm = SVC(kernel='linear', C=1,random_state=0)\n",
        "svm.fit(X_train_std,y_train)\n",
        "y_pred=svm.predict(X_test_std)\n",
        "print('misclassified samples: %d'%(y_test!=y_pred).sum())\n",
        "from sklearn.metrics import accuracy_score\n",
        "print('Accuracy:%.2f'%accuracy_score(y_test,y_pred))"
      ]
    },
    {
      "cell_type": "code",
      "execution_count": 73,
      "metadata": {
        "colab": {
          "base_uri": "https://localhost:8080/"
        },
        "id": "d-S5pd4d4RAy",
        "outputId": "8cf620d0-c493-4fe4-beb3-eef899bfe385"
      },
      "outputs": [
        {
          "output_type": "stream",
          "name": "stdout",
          "text": [
            "misclassified samples: 71\n",
            "Accuracy:0.45\n"
          ]
        }
      ],
      "source": [
        "### KNN (K-Nearest Neighbors)\n",
        "from sklearn.neighbors import KNeighborsClassifier\n",
        "from sklearn.metrics import accuracy_score\n",
        "knn1=KNeighborsClassifier(n_neighbors=3)\n",
        "knn1.fit(X_train_std,y_train)\n",
        "y_pred=knn1.predict(X_test_std)\n",
        "print('misclassified samples: %d'%(y_test!=y_pred).sum())\n",
        "from sklearn.metrics import accuracy_score\n",
        "print('Accuracy:%.2f'%accuracy_score(y_test,y_pred))"
      ]
    },
    {
      "cell_type": "code",
      "execution_count": 74,
      "metadata": {
        "colab": {
          "base_uri": "https://localhost:8080/"
        },
        "id": "XWd_P9Nt4WwE",
        "outputId": "8ef65acf-4a70-4805-9008-dd3bb5cbfdff"
      },
      "outputs": [
        {
          "output_type": "stream",
          "name": "stdout",
          "text": [
            "              precision    recall  f1-score   support\n",
            "\n",
            "           0       0.09      0.21      0.13       128\n",
            "           1       0.38      0.73      0.50        64\n",
            "           2       0.70      0.73      0.72        64\n",
            "           3       0.71      0.23      0.35        64\n",
            "           4       0.00      0.00      0.00        64\n",
            "           5       0.23      0.11      0.15        64\n",
            "           6       0.00      0.00      0.00        64\n",
            "           7       0.00      0.00      0.00        64\n",
            "           8       0.32      0.44      0.37        64\n",
            "\n",
            "    accuracy                           0.27       640\n",
            "   macro avg       0.27      0.27      0.25       640\n",
            "weighted avg       0.25      0.27      0.23       640\n",
            "\n"
          ]
        },
        {
          "output_type": "stream",
          "name": "stderr",
          "text": [
            "/usr/local/lib/python3.9/dist-packages/sklearn/metrics/_classification.py:1344: UndefinedMetricWarning: Precision and F-score are ill-defined and being set to 0.0 in labels with no predicted samples. Use `zero_division` parameter to control this behavior.\n",
            "  _warn_prf(average, modifier, msg_start, len(result))\n",
            "/usr/local/lib/python3.9/dist-packages/sklearn/metrics/_classification.py:1344: UndefinedMetricWarning: Precision and F-score are ill-defined and being set to 0.0 in labels with no predicted samples. Use `zero_division` parameter to control this behavior.\n",
            "  _warn_prf(average, modifier, msg_start, len(result))\n",
            "/usr/local/lib/python3.9/dist-packages/sklearn/metrics/_classification.py:1344: UndefinedMetricWarning: Precision and F-score are ill-defined and being set to 0.0 in labels with no predicted samples. Use `zero_division` parameter to control this behavior.\n",
            "  _warn_prf(average, modifier, msg_start, len(result))\n"
          ]
        },
        {
          "output_type": "execute_result",
          "data": {
            "text/plain": [
              "0.2671875"
            ]
          },
          "metadata": {},
          "execution_count": 74
        }
      ],
      "source": [
        "### Logistic Regression\n",
        "from sklearn.linear_model import LogisticRegression\n",
        "from sklearn.metrics import classification_report, confusion_matrix\n",
        "model = LogisticRegression(solver='liblinear', random_state=0)\n",
        "model.fit(X,y)\n",
        "model = LogisticRegression(solver='liblinear', random_state=0).fit(X, y)\n",
        "model.predict_proba(X)\n",
        "model.predict(X)\n",
        "model.score(X,y)\n",
        "print(classification_report(y, model.predict(X)))\n",
        "model.score(X,y)"
      ]
    },
    {
      "cell_type": "code",
      "execution_count": 75,
      "metadata": {
        "colab": {
          "base_uri": "https://localhost:8080/"
        },
        "id": "X3vSXkuSSJkV",
        "outputId": "25f3a26c-3600-43c8-a7d6-7334b754602a"
      },
      "outputs": [
        {
          "output_type": "stream",
          "name": "stdout",
          "text": [
            "Best hyperparameters: {'max_depth': None, 'min_samples_split': 5, 'n_estimators': 150}\n",
            "Validation accuracy score: 0.9947916666666666\n"
          ]
        }
      ],
      "source": [
        "from sklearn.ensemble import RandomForestClassifier #algorithm of hyperparameter tuning\n",
        "from sklearn.model_selection import GridSearchCV #Cv: Cross Validation\n",
        "from sklearn.metrics import accuracy_score\n",
        "from sklearn.model_selection import train_test_split\n",
        "X_train, X_val, y_train, y_val = train_test_split(X, y, test_size=0.3, random_state=42)\n",
        "\n",
        "# Define the hyperparameters to tune\n",
        "param_grid = {\n",
        "    'n_estimators': [50, 100, 150],\n",
        "    'max_depth': [None, 5, 10],\n",
        "    'min_samples_split': [2, 5, 10]\n",
        "}\n",
        "# Create a random forest classifier object\n",
        "rfc = RandomForestClassifier()\n",
        "\n",
        "# Perform a grid search with cross-validation to find the best hyperparameters\n",
        "grid_search = GridSearchCV(estimator=rfc, param_grid=param_grid, cv=5)\n",
        "grid_search.fit(X_train, y_train)\n",
        "\n",
        "# Print the best hyperparameters and their corresponding accuracy score on the validation set\n",
        "print(\"Best hyperparameters:\", grid_search.best_params_)\n",
        "y_pred = grid_search.predict(X_val)\n",
        "print(\"Validation accuracy score:\", accuracy_score(y_val, y_pred))"
      ]
    }
  ],
  "metadata": {
    "colab": {
      "provenance": []
    },
    "kernelspec": {
      "display_name": "Python 3",
      "name": "python3"
    },
    "language_info": {
      "name": "python",
      "version": "3.10.11"
    }
  },
  "nbformat": 4,
  "nbformat_minor": 0
}